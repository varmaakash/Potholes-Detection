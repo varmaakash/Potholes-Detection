{
  "nbformat": 4,
  "nbformat_minor": 0,
  "metadata": {
    "colab": {
      "provenance": [],
      "authorship_tag": "ABX9TyMQ3VJ1vNhCoP4VeJRTCcWg",
      "include_colab_link": true
    },
    "kernelspec": {
      "name": "python3",
      "display_name": "Python 3"
    },
    "language_info": {
      "name": "python"
    }
  },
  "cells": [
    {
      "cell_type": "markdown",
      "metadata": {
        "id": "view-in-github",
        "colab_type": "text"
      },
      "source": [
        "<a href=\"https://colab.research.google.com/github/varmaakash/Potholes-Detection/blob/main/potholes_detection.ipynb\" target=\"_parent\"><img src=\"https://colab.research.google.com/assets/colab-badge.svg\" alt=\"Open In Colab\"/></a>"
      ]
    },
    {
      "cell_type": "code",
      "execution_count": null,
      "metadata": {
        "colab": {
          "base_uri": "https://localhost:8080/"
        },
        "id": "ViPd-V4v536K",
        "outputId": "8829ddce-50b8-4e7d-9af1-db434e90919c"
      },
      "outputs": [
        {
          "output_type": "stream",
          "name": "stdout",
          "text": [
            "Mounted at /content/drive\n"
          ]
        }
      ],
      "source": [
        "# 1. Setup Google Colab Environment\n",
        "from google.colab import drive\n",
        "drive.mount('/content/drive')\n",
        "\n"
      ]
    },
    {
      "cell_type": "code",
      "source": [
        "# 2. Data Preprocessing\n",
        "import tensorflow as tf\n",
        "from tensorflow.keras.preprocessing.image import ImageDataGenerator\n",
        "\n",
        "train_dir = '/content/drive/MyDrive/road dataset/train'\n",
        "validation_dir = '/content/drive/MyDrive/road dataset/validation'\n",
        "\n",
        "train_datagen = ImageDataGenerator(\n",
        "    rescale=1./255,\n",
        "    rotation_range=40,\n",
        "    width_shift_range=0.2,\n",
        "    height_shift_range=0.2,\n",
        "    shear_range=0.2,\n",
        "    zoom_range=0.2,\n",
        "    horizontal_flip=True,\n",
        "    fill_mode='nearest'\n",
        ")\n",
        "\n",
        "validation_datagen = ImageDataGenerator(rescale=1./255)\n",
        "\n",
        "train_generator = train_datagen.flow_from_directory(\n",
        "    train_dir,\n",
        "    target_size=(150, 150),\n",
        "    batch_size=32,\n",
        "    class_mode='binary'\n",
        ")\n",
        "\n",
        "validation_generator = validation_datagen.flow_from_directory(\n",
        "    validation_dir,\n",
        "    target_size=(150, 150),\n",
        "    batch_size=32,\n",
        "    class_mode='binary'\n",
        ")\n",
        "\n",
        "# 3. Model Building\n",
        "from tensorflow.keras.applications import MobileNetV2\n",
        "from tensorflow.keras.layers import Dense, GlobalAveragePooling2D\n",
        "from tensorflow.keras.models import Model\n",
        "\n",
        "base_model = MobileNetV2(weights='imagenet', include_top=False, input_shape=(150, 150, 3))\n",
        "\n",
        "x = base_model.output\n",
        "x = GlobalAveragePooling2D()(x)\n",
        "x = Dense(1024, activation='relu')(x)\n",
        "predictions = Dense(1, activation='sigmoid')(x)\n",
        "\n",
        "model = Model(inputs=base_model.input, outputs=predictions)\n",
        "\n",
        "model.compile(optimizer='adam', loss='binary_crossentropy', metrics=['accuracy'])\n",
        "\n",
        "# 4. Model Training\n",
        "history = model.fit(\n",
        "    train_generator,\n",
        "    steps_per_epoch=train_generator.samples // train_generator.batch_size,\n",
        "    validation_data=validation_generator,\n",
        "    validation_steps=validation_generator.samples // validation_generator.batch_size,\n",
        "    epochs=10\n",
        ")\n",
        "\n",
        "# 5. Model Evaluation\n",
        "loss, accuracy = model.evaluate(validation_generator)\n",
        "print(f'Validation Accuracy: {accuracy*100:.2f}%')\n",
        "\n",
        "# 6. Model Deployment\n",
        "model.save('pothole_detection_model.h5')\n",
        "\n",
        "# 7. Uploading and Predicting Images\n",
        "from tensorflow.keras.preprocessing import image\n",
        "import numpy as np\n",
        "\n",
        "def predict_image(img_path):\n",
        "    img = image.load_img(img_path, target_size=(150, 150))\n",
        "    img_array = image.img_to_array(img)\n",
        "    img_array = np.expand_dims(img_array, axis=0)\n",
        "    img_array /= 255.0\n",
        "\n",
        "    prediction = model.predict(img_array)\n",
        "    if prediction[0] > 0.5:\n",
        "        return 'Pothole'\n",
        "    else:\n",
        "        return 'Normal'\n",
        "\n"
      ],
      "metadata": {
        "colab": {
          "base_uri": "https://localhost:8080/"
        },
        "id": "5E48sDlR6phw",
        "outputId": "51131667-2bd0-4812-a0b4-1253ef746308"
      },
      "execution_count": null,
      "outputs": [
        {
          "output_type": "stream",
          "name": "stdout",
          "text": [
            "Found 681 images belonging to 2 classes.\n",
            "Found 681 images belonging to 2 classes.\n"
          ]
        },
        {
          "output_type": "stream",
          "name": "stderr",
          "text": [
            "WARNING:tensorflow:`input_shape` is undefined or non-square, or `rows` is not in [96, 128, 160, 192, 224]. Weights for input shape (224, 224) will be loaded as the default.\n"
          ]
        },
        {
          "output_type": "stream",
          "name": "stdout",
          "text": [
            "Downloading data from https://storage.googleapis.com/tensorflow/keras-applications/mobilenet_v2/mobilenet_v2_weights_tf_dim_ordering_tf_kernels_1.0_224_no_top.h5\n",
            "9406464/9406464 [==============================] - 0s 0us/step\n",
            "Epoch 1/10\n",
            "21/21 [==============================] - 324s 15s/step - loss: 0.4700 - accuracy: 0.8259 - val_loss: 0.1450 - val_accuracy: 0.9732\n",
            "Epoch 2/10\n",
            "21/21 [==============================] - 89s 4s/step - loss: 0.1485 - accuracy: 0.9522 - val_loss: 0.3144 - val_accuracy: 0.9643\n",
            "Epoch 3/10\n",
            "21/21 [==============================] - 90s 4s/step - loss: 0.0809 - accuracy: 0.9738 - val_loss: 0.2451 - val_accuracy: 0.9673\n",
            "Epoch 4/10\n",
            "21/21 [==============================] - 88s 4s/step - loss: 0.0914 - accuracy: 0.9676 - val_loss: 0.4181 - val_accuracy: 0.9568\n",
            "Epoch 5/10\n",
            "21/21 [==============================] - 90s 4s/step - loss: 0.1105 - accuracy: 0.9569 - val_loss: 0.7478 - val_accuracy: 0.9107\n",
            "Epoch 6/10\n",
            "21/21 [==============================] - 95s 5s/step - loss: 0.0963 - accuracy: 0.9676 - val_loss: 0.6977 - val_accuracy: 0.8929\n",
            "Epoch 7/10\n",
            "21/21 [==============================] - 109s 5s/step - loss: 0.0919 - accuracy: 0.9661 - val_loss: 2.4067 - val_accuracy: 0.8586\n",
            "Epoch 8/10\n",
            "21/21 [==============================] - 89s 4s/step - loss: 0.0961 - accuracy: 0.9615 - val_loss: 3.5784 - val_accuracy: 0.7976\n",
            "Epoch 9/10\n",
            "21/21 [==============================] - 88s 4s/step - loss: 0.0345 - accuracy: 0.9892 - val_loss: 0.8011 - val_accuracy: 0.9449\n",
            "Epoch 10/10\n",
            "21/21 [==============================] - 88s 4s/step - loss: 0.1301 - accuracy: 0.9492 - val_loss: 4.5683 - val_accuracy: 0.6696\n",
            "22/22 [==============================] - 22s 954ms/step - loss: 4.5891 - accuracy: 0.6667\n",
            "Validation Accuracy: 66.67%\n"
          ]
        },
        {
          "output_type": "stream",
          "name": "stderr",
          "text": [
            "/usr/local/lib/python3.10/dist-packages/keras/src/engine/training.py:3103: UserWarning: You are saving your model as an HDF5 file via `model.save()`. This file format is considered legacy. We recommend using instead the native Keras format, e.g. `model.save('my_model.keras')`.\n",
            "  saving_api.save_model(\n"
          ]
        },
        {
          "output_type": "stream",
          "name": "stdout",
          "text": [
            "1/1 [==============================] - 1s 1s/step\n",
            "The image is: Normal\n"
          ]
        }
      ]
    },
    {
      "cell_type": "code",
      "source": [
        "img_path = '/poyholes.jpg'\n",
        "result = predict_image(img_path)\n",
        "print(f'The image is: {result}')\n"
      ],
      "metadata": {
        "colab": {
          "base_uri": "https://localhost:8080/"
        },
        "id": "eg0T8oLQ75iz",
        "outputId": "4294d6b2-db05-4a58-e042-469a4a597e25"
      },
      "execution_count": null,
      "outputs": [
        {
          "output_type": "stream",
          "name": "stdout",
          "text": [
            "1/1 [==============================] - 0s 45ms/step\n",
            "The image is: Pothole\n"
          ]
        }
      ]
    },
    {
      "cell_type": "code",
      "source": [
        "img_path = '/good.jpg'\n",
        "result = predict_image(img_path)\n",
        "print(f'The image is: {result}')\n"
      ],
      "metadata": {
        "colab": {
          "base_uri": "https://localhost:8080/"
        },
        "id": "vo-iUV5uCq_8",
        "outputId": "e2be934a-e5d6-409d-d802-7e7db6e403e9"
      },
      "execution_count": null,
      "outputs": [
        {
          "output_type": "stream",
          "name": "stdout",
          "text": [
            "1/1 [==============================] - 0s 42ms/step\n",
            "The image is: Normal\n"
          ]
        }
      ]
    },
    {
      "cell_type": "code",
      "source": [
        "img_path = '/WhatsApp Image 2024-07-16 at 15.44.46.jpeg'\n",
        "result = predict_image(img_path)\n",
        "print(f'The image is: {result}')"
      ],
      "metadata": {
        "colab": {
          "base_uri": "https://localhost:8080/"
        },
        "id": "OiSrigrBC7bL",
        "outputId": "61f29fe7-7158-4677-8c9d-139d8818ab2a"
      },
      "execution_count": null,
      "outputs": [
        {
          "output_type": "stream",
          "name": "stdout",
          "text": [
            "1/1 [==============================] - 0s 41ms/step\n",
            "The image is: Normal\n"
          ]
        }
      ]
    },
    {
      "cell_type": "code",
      "source": [],
      "metadata": {
        "id": "IAGTys92FBCt"
      },
      "execution_count": null,
      "outputs": []
    }
  ]
}